{
  "nbformat": 4,
  "nbformat_minor": 0,
  "metadata": {
    "colab": {
      "provenance": [],
      "authorship_tag": "ABX9TyPwXhzvYCAZg8Xi2Jf6sgEq",
      "include_colab_link": true
    },
    "kernelspec": {
      "name": "python3",
      "display_name": "Python 3"
    },
    "language_info": {
      "name": "python"
    }
  },
  "cells": [
    {
      "cell_type": "markdown",
      "metadata": {
        "id": "view-in-github",
        "colab_type": "text"
      },
      "source": [
        "<a href=\"https://colab.research.google.com/github/Lokesh-2303a51642/23CSBTB27-28/blob/main/types_of_list.ipynb\" target=\"_parent\"><img src=\"https://colab.research.google.com/assets/colab-badge.svg\" alt=\"Open In Colab\"/></a>"
      ]
    },
    {
      "cell_type": "markdown",
      "source": [],
      "metadata": {
        "id": "pGfctR0aj6EN"
      }
    },
    {
      "cell_type": "code",
      "execution_count": null,
      "metadata": {
        "id": "xeMQEOkJjKfB"
      },
      "outputs": [],
      "source": [
        "list =[1,5,2,6,3]\n",
        "print(list[3])\n"
      ]
    },
    {
      "cell_type": "code",
      "source": [
        "import numpy as np\n",
        "list = {1,2,5,6,7}\n",
        "list1 = [2,4,5,6,7]\n",
        "print(type(list1))\n",
        "print(type(list))\n",
        "\n"
      ],
      "metadata": {
        "colab": {
          "base_uri": "https://localhost:8080/"
        },
        "id": "c2SF_vnhkbNl",
        "outputId": "019858df-c65f-4dea-8a69-8cf5fc6e6d05"
      },
      "execution_count": null,
      "outputs": [
        {
          "output_type": "stream",
          "name": "stdout",
          "text": [
            "<class 'list'>\n",
            "<class 'set'>\n"
          ]
        }
      ]
    },
    {
      "cell_type": "code",
      "source": [
        "list = [\"Greeks\",\"for\",\"Greeks\"]\n",
        "list2 = \"My first lab\"\n",
        "list3 = 4.3\n",
        "list4 = 2j+6\n",
        "list5 = 'My first lab'\n",
        "print(type(list))\n",
        "print(type(list1))\n",
        "print(type(list2))\n",
        "print(type(list3))\n",
        "print(type(list4))\n",
        "print(type(list5))\n",
        "print(\"\\nlist Items :\")\n",
        "print(list)"
      ],
      "metadata": {
        "colab": {
          "base_uri": "https://localhost:8080/"
        },
        "id": "ljbu9cQylNxW",
        "outputId": "5da50a11-9ae7-4ac9-d766-46388de52255"
      },
      "execution_count": null,
      "outputs": [
        {
          "output_type": "stream",
          "name": "stdout",
          "text": [
            "<class 'list'>\n",
            "<class 'list'>\n",
            "<class 'str'>\n",
            "<class 'float'>\n",
            "<class 'complex'>\n",
            "<class 'str'>\n",
            "\n",
            "list Items :\n",
            "['Greeks', 'for', 'Greeks']\n"
          ]
        }
      ]
    },
    {
      "cell_type": "code",
      "source": [
        "list = {1:'ravi',2:'lokesh'}\n",
        "print(type(list))"
      ],
      "metadata": {
        "colab": {
          "base_uri": "https://localhost:8080/"
        },
        "id": "gYUbkdC-nHSv",
        "outputId": "1e3148de-268f-4354-a1d1-0a6239cd6e04"
      },
      "execution_count": null,
      "outputs": [
        {
          "output_type": "stream",
          "name": "stdout",
          "text": [
            "<class 'dict'>\n"
          ]
        }
      ]
    }
  ]
}